{
  "nbformat": 4,
  "nbformat_minor": 0,
  "metadata": {
    "colab": {
      "name": "MNIST_neural_network.ipynb",
      "version": "0.3.2",
      "provenance": [],
      "collapsed_sections": [],
      "include_colab_link": true
    },
    "kernelspec": {
      "name": "python3",
      "display_name": "Python 3"
    }
  },
  "cells": [
    {
      "cell_type": "markdown",
      "metadata": {
        "id": "view-in-github",
        "colab_type": "text"
      },
      "source": [
        "<a href=\"https://colab.research.google.com/github/anurag-maurya/MNNIST-/blob/master/MNIST_neural_network.ipynb\" target=\"_parent\"><img src=\"https://colab.research.google.com/assets/colab-badge.svg\" alt=\"Open In Colab\"/></a>"
      ]
    },
    {
      "cell_type": "code",
      "metadata": {
        "id": "wI8dMAVOWeNC",
        "colab_type": "code",
        "colab": {}
      },
      "source": [
        "import tensorflow as tf\n",
        "import numpy as np\n",
        "import math\n",
        "import matplotlib.pyplot as plt\n",
        "import os\n",
        "import io\n",
        "import pandas as pd\n"
      ],
      "execution_count": 0,
      "outputs": []
    },
    {
      "cell_type": "code",
      "metadata": {
        "id": "r5L2GwScWkOr",
        "colab_type": "code",
        "colab": {}
      },
      "source": [
        "from google.colab import files\n",
        "uploaded = files.upload()"
      ],
      "execution_count": 0,
      "outputs": []
    },
    {
      "cell_type": "code",
      "metadata": {
        "id": "nkTjuSlkWv6O",
        "colab_type": "code",
        "colab": {}
      },
      "source": [
        "df2 = pd.read_csv(io.BytesIO(uploaded['train.csv']))\n",
        "df2.sample(frac=1)"
      ],
      "execution_count": 0,
      "outputs": []
    },
    {
      "cell_type": "code",
      "metadata": {
        "id": "Okx-KbdFngTM",
        "colab_type": "code",
        "colab": {}
      },
      "source": [
        "train_labels=df2.iloc[0:29000,0].values\n",
        "train_images=df2.iloc[0:29000,1:].values\n",
        "test_labels=df2.iloc[29000:,0].values\n",
        "test_images=df2.iloc[29000:,1:].values"
      ],
      "execution_count": 0,
      "outputs": []
    },
    {
      "cell_type": "code",
      "metadata": {
        "id": "PBHTi62soxOd",
        "colab_type": "code",
        "colab": {}
      },
      "source": [
        "train_labels=tf.one_hot(train_labels,10)\n",
        "test_labels=tf.one_hot(test_labels,10)\n",
        "train_images=tf.math.divide(train_images,255)\n",
        "test_images=tf.math.divide(test_images,255)"
      ],
      "execution_count": 0,
      "outputs": []
    },
    {
      "cell_type": "code",
      "metadata": {
        "id": "lGni0vPkymAm",
        "colab_type": "code",
        "outputId": "5e868047-f36a-4ce0-af37-8f482fa450ae",
        "colab": {
          "base_uri": "https://localhost:8080/",
          "height": 34
        }
      },
      "source": [
        "print(type(train_labels))\n"
      ],
      "execution_count": 58,
      "outputs": [
        {
          "output_type": "stream",
          "text": [
            "<class 'tensorflow.python.framework.ops.Tensor'>\n"
          ],
          "name": "stdout"
        }
      ]
    },
    {
      "cell_type": "code",
      "metadata": {
        "id": "xsSeleg3oHdt",
        "colab_type": "code",
        "colab": {}
      },
      "source": [
        "def tensor2array(p):\n",
        "  with tf.name_scope(\"aise_hi\"):\n",
        "    sess=tf.Session()\n",
        "    p=p.eval()\n",
        "    sess.close\n",
        "  return p\n"
      ],
      "execution_count": 0,
      "outputs": []
    },
    {
      "cell_type": "code",
      "metadata": {
        "id": "gLrZD7KgpvIq",
        "colab_type": "code",
        "colab": {}
      },
      "source": [
        "learning_rate=0.0005\n",
        "nodes_hidden_layer_1=500\n",
        "nodes_hidden_layer_2=250\n",
        "pixel_size=28*28\n",
        "num_classes=10\n",
        "batch_size=100\n",
        "m=train_images.shape[0]                        #total number of training set\n"
      ],
      "execution_count": 0,
      "outputs": []
    },
    {
      "cell_type": "code",
      "metadata": {
        "id": "5ryhTC1Xp2LR",
        "colab_type": "code",
        "colab": {}
      },
      "source": [
        "def fc_layer(x,out_size,name=\"fc\",activation=None):\n",
        "  in_size=int(x.shape[1])\n",
        "  w=tf.Variable(tf.truncated_normal([in_size, out_size],stddev=0.1),name='weight')\n",
        "  b=tf.Variable(tf.truncated_normal([out_size]),name='bais')\n",
        "  if(activation==True): return activation(tf.add(tf.matmul(x,w),b))\n",
        "  return tf.add(tf.matmul(x,w),b)\n",
        "  "
      ],
      "execution_count": 0,
      "outputs": []
    },
    {
      "cell_type": "code",
      "metadata": {
        "id": "g7KJotPL_Oiz",
        "colab_type": "code",
        "colab": {}
      },
      "source": [
        "def predict_output(x):\n",
        "  layer1=fc_layer(x,nodes_hidden_layer_1,name=\"layer1\",activation=tf.nn.relu)\n",
        "  layer2=fc_layer(layer1,nodes_hidden_layer_2,name=\"layer2\",activation=tf.nn.relu)\n",
        "  y_=fc_layer(layer2,num_classes,name=\"prediction\")\n",
        "  return y_\n",
        "\n",
        "  "
      ],
      "execution_count": 0,
      "outputs": []
    },
    {
      "cell_type": "code",
      "metadata": {
        "id": "rK-IKPg_Bn-n",
        "colab_type": "code",
        "outputId": "6298d786-7fdc-419f-8e5d-95e8e5d60316",
        "colab": {
          "base_uri": "https://localhost:8080/",
          "height": 71
        }
      },
      "source": [
        "\n",
        "sess = tf.InteractiveSession()"
      ],
      "execution_count": 63,
      "outputs": [
        {
          "output_type": "stream",
          "text": [
            "/usr/local/lib/python3.6/dist-packages/tensorflow/python/client/session.py:1735: UserWarning: An interactive session is already active. This can cause out-of-memory errors in some cases. You must explicitly call `InteractiveSession.close()` to release resources held by the other session(s).\n",
            "  warnings.warn('An interactive session is already active. This can '\n"
          ],
          "name": "stderr"
        }
      ]
    },
    {
      "cell_type": "code",
      "metadata": {
        "id": "rKbG7e6lB59T",
        "colab_type": "code",
        "colab": {}
      },
      "source": [
        "\n",
        "x=tf.placeholder(dtype=tf.float32,shape=[None,pixel_size])\n",
        "y=tf.placeholder(dtype=tf.float32,shape=[None,num_classes])"
      ],
      "execution_count": 0,
      "outputs": []
    },
    {
      "cell_type": "code",
      "metadata": {
        "id": "znMJ0yIOCrcq",
        "colab_type": "code",
        "colab": {}
      },
      "source": [
        "y_=predict_output(x)\n",
        "loss=tf.reduce_mean(tf.nn.softmax_cross_entropy_with_logits(labels=y,logits=y_))\n",
        "train_op=tf.train.AdamOptimizer(learning_rate).minimize(loss)"
      ],
      "execution_count": 0,
      "outputs": []
    },
    {
      "cell_type": "code",
      "metadata": {
        "id": "S55Vicm8xzTL",
        "colab_type": "code",
        "colab": {}
      },
      "source": [
        "\n",
        "correct_prediction = tf.equal(tf.argmax(y, 1), tf.argmax(y_, 1))\n",
        "accuracy = tf.reduce_mean(tf.cast(correct_prediction, tf.float32))\n",
        "  "
      ],
      "execution_count": 0,
      "outputs": []
    },
    {
      "cell_type": "code",
      "metadata": {
        "id": "xk5qT33lIU0U",
        "colab_type": "code",
        "colab": {}
      },
      "source": [
        "#tf.global_variables_initializer().run()\n",
        "sess.run(tf.global_variables_initializer())"
      ],
      "execution_count": 0,
      "outputs": []
    },
    {
      "cell_type": "code",
      "metadata": {
        "id": "uZ2UKmIRDvS8",
        "colab_type": "code",
        "outputId": "30ed5f9c-fef2-47e9-c72b-4f9a9baa995f",
        "colab": {
          "base_uri": "https://localhost:8080/",
          "height": 697
        }
      },
      "source": [
        "\n",
        "for i in range(10):\n",
        "  \n",
        "  for j in range(0,m,batch_size):\n",
        "    batch_images=train_images[j:j+batch_size,:]\n",
        "    batch_labels=train_labels[j:j+batch_size,:]\n",
        "    sess.run(train_op,feed_dict={x:batch_images,y:tensor2array(batch_labels)})\n",
        "  \n",
        "  print(\"epoch : \",i)\n",
        "  print(\"loss=\",loss.eval(feed_dict={x:train_images,y:tensor2array(train_labels)}))\n",
        "    \n",
        "  print(\"train accuracy=\",accuracy.eval(feed_dict={x:train_images,y:tensor2array(train_labels)}))\n",
        "  print(\"test accuracy=\",accuracy.eval(feed_dict={x:test_images,y:tensor2array(test_labels)}))\n",
        "      \n",
        "      \n",
        "      \n",
        "      \n",
        "      \n",
        "\n",
        "    "
      ],
      "execution_count": 68,
      "outputs": [
        {
          "output_type": "stream",
          "text": [
            "epoch :  0\n",
            "loss= 0.31314552\n",
            "train accuracy= 0.90855175\n",
            "test accuracy= 0.90115386\n",
            "epoch :  1\n",
            "loss= 0.27818337\n",
            "train accuracy= 0.9194138\n",
            "test accuracy= 0.9090769\n",
            "epoch :  2\n",
            "loss= 0.2744092\n",
            "train accuracy= 0.9203448\n",
            "test accuracy= 0.9082308\n",
            "epoch :  3\n",
            "loss= 0.26716846\n",
            "train accuracy= 0.92127585\n",
            "test accuracy= 0.9084615\n",
            "epoch :  4\n",
            "loss= 0.26043826\n",
            "train accuracy= 0.9235862\n",
            "test accuracy= 0.9089231\n",
            "epoch :  5\n",
            "loss= 0.2557448\n",
            "train accuracy= 0.92524135\n",
            "test accuracy= 0.9086154\n",
            "epoch :  6\n",
            "loss= 0.25265098\n",
            "train accuracy= 0.92675865\n",
            "test accuracy= 0.908\n",
            "epoch :  7\n",
            "loss= 0.25056586\n",
            "train accuracy= 0.9270345\n",
            "test accuracy= 0.9086154\n",
            "epoch :  8\n",
            "loss= 0.24888167\n",
            "train accuracy= 0.9274483\n",
            "test accuracy= 0.90815383\n",
            "epoch :  9\n",
            "loss= 0.24725293\n",
            "train accuracy= 0.9283793\n",
            "test accuracy= 0.90761536\n"
          ],
          "name": "stdout"
        }
      ]
    },
    {
      "cell_type": "code",
      "metadata": {
        "id": "l-NPXy8HJiGv",
        "colab_type": "code",
        "colab": {}
      },
      "source": [
        ""
      ],
      "execution_count": 0,
      "outputs": []
    },
    {
      "cell_type": "code",
      "metadata": {
        "id": "OWcfiPSjwRhF",
        "colab_type": "code",
        "colab": {}
      },
      "source": [
        ""
      ],
      "execution_count": 0,
      "outputs": []
    }
  ]
}